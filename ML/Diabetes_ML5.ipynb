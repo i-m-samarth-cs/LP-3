{
 "cells": [
  {
   "cell_type": "code",
   "execution_count": null,
   "id": "9e615118",
   "metadata": {
    "vscode": {
     "languageId": "plaintext"
    }
   },
   "outputs": [],
   "source": [
    "import pandas as pd\n",
    "from sklearn.model_selection import train_test_split\n",
    "from sklearn.neighbors import KNeighborsClassifier\n",
    "from sklearn.preprocessing import StandardScaler\n",
    "from sklearn.metrics import confusion_matrix, accuracy_score, precision_score, recall_score\n",
    "import matplotlib.pyplot as plt\n",
    "import seaborn as sns\n",
    "\n",
    "# --- 1. Data Loading and Preparation ---\n",
    "try:\n",
    "    df = pd.read_csv('diabetes.csv')\n",
    "except FileNotFoundError:\n",
    "    print(\"Error: 'diabetes.csv' not found. Please ensure the file is in the correct directory.\")\n",
    "    exit()\n",
    "\n",
    "# Features (X): All columns except the last one ('Outcome')\n",
    "X = df.drop('Outcome', axis=1).values\n",
    "# Target (Y): The last column ('Outcome' - 0 or 1)\n",
    "y = df['Outcome'].values\n",
    "\n",
    "# Split data into training (70%) and testing (30%) sets\n",
    "X_train, X_test, y_train, y_test = train_test_split(X, y, test_size=0.3, random_state=42)\n",
    "\n",
    "# --- 2. Scaling (Essential for KNN) ---\n",
    "scaler = StandardScaler()\n",
    "X_train_scaled = scaler.fit_transform(X_train)\n",
    "X_test_scaled = scaler.transform(X_test)\n",
    "\n",
    "# --- 3. Model Training (K-Nearest Neighbors) ---\n",
    "K = 11  # Typically an odd number; often chosen through tuning\n",
    "knn = KNeighborsClassifier(n_neighbors=K)\n",
    "knn.fit(X_train_scaled, y_train)\n",
    "\n",
    "# --- 4. Prediction and Evaluation ---\n",
    "y_pred = knn.predict(X_test_scaled)\n",
    "\n",
    "# Compute Metrics\n",
    "accuracy = accuracy_score(y_test, y_pred)\n",
    "precision = precision_score(y_test, y_pred)\n",
    "recall = recall_score(y_test, y_pred)\n",
    "error_rate = 1 - accuracy\n",
    "cm = confusion_matrix(y_test, y_pred)\n",
    "\n",
    "# --- 5. Output Results ---\n",
    "print(f\"--- K-Nearest Neighbors (K={K}) Performance ---\")\n",
    "print(f\"Accuracy: {accuracy:.4f}\")\n",
    "print(f\"Error Rate: {error_rate:.4f}\")\n",
    "print(f\"Precision: {precision:.4f}\")\n",
    "print(f\"Recall (Sensitivity): {recall:.4f}\")\n",
    "\n",
    "print(\"\\nConfusion Matrix:\")\n",
    "print(cm)\n",
    "\n",
    "# Plot Confusion Matrix for better visualization\n",
    "plt.figure(figsize=(6, 5))\n",
    "sns.heatmap(cm, annot=True, fmt='d', cmap='Blues', cbar=False,\n",
    "            xticklabels=['No Diabetes (0)', 'Diabetes (1)'],\n",
    "            yticklabels=['No Diabetes (0)', 'Diabetes (1)'])\n",
    "plt.title(f'Confusion Matrix (K={K})')\n",
    "plt.xlabel('Predicted Label')\n",
    "plt.ylabel('True Label')\n",
    "plt.show()"
   ]
  }
 ],
 "metadata": {
  "language_info": {
   "name": "python"
  }
 },
 "nbformat": 4,
 "nbformat_minor": 5
}
